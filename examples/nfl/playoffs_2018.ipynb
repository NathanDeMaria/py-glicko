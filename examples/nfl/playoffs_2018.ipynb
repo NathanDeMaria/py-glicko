{
 "cells": [
  {
   "cell_type": "code",
   "execution_count": 1,
   "metadata": {},
   "outputs": [],
   "source": [
    "import sys\n",
    "\n",
    "sys.path.append('../../app/leagues/')"
   ]
  },
  {
   "cell_type": "code",
   "execution_count": 2,
   "metadata": {},
   "outputs": [],
   "source": [
    "import random\n",
    "from collections import Counter\n",
    "\n",
    "from glicko.update import calc_win_prob\n",
    "\n",
    "from nfl_hensley import build_league"
   ]
  },
  {
   "cell_type": "code",
   "execution_count": 3,
   "metadata": {},
   "outputs": [],
   "source": [
    "league = build_league()\n",
    "\n",
    "team_lookup = {\n",
    "    t.name: t for t in league.teams\n",
    "}"
   ]
  },
  {
   "cell_type": "code",
   "execution_count": 4,
   "metadata": {},
   "outputs": [],
   "source": [
    "afc = [\n",
    "    team_lookup[t] for t in\n",
    "    ['Chiefs', 'Patriots', 'Texans', 'Ravens', 'Chargers', 'Colts']\n",
    "]\n",
    "\n",
    "nfc = [\n",
    "    team_lookup[t] for t in\n",
    "    ['Saints', 'Rams', 'Bears', 'Cowboys', 'Seahawks', 'Eagles']\n",
    "]"
   ]
  },
  {
   "cell_type": "code",
   "execution_count": 5,
   "metadata": {},
   "outputs": [],
   "source": [
    "def get_winner(team_a, team_b):\n",
    "    p = calc_win_prob(team_a.rating, team_b.rating)\n",
    "    return team_a if p > random.random() else team_b\n",
    "\n",
    "def run_conference(teams):\n",
    "    # teams is a list of the 6 seeds\n",
    "    # Gonna do this the Monte Carlo way b/c less code/thinking :)\n",
    "    div0 = get_winner(teams[2], teams[5])\n",
    "    div1 = get_winner(teams[3], teams[4])\n",
    "    \n",
    "    if div0 == teams[5]:\n",
    "        lower_div, higher_div = div0, div1\n",
    "    else:\n",
    "        lower_div, higher_div = div1, div0\n",
    "    \n",
    "    ch0 = get_winner(teams[0], lower_div)\n",
    "    ch1 = get_winner(teams[1], higher_div)\n",
    "    return get_winner(ch0, ch1)"
   ]
  },
  {
   "cell_type": "code",
   "execution_count": 6,
   "metadata": {},
   "outputs": [],
   "source": [
    "def run_playoffs(afc, nfc):\n",
    "    afc_champ = run_conference(afc)\n",
    "    nfc_champ = run_conference(nfc)\n",
    "    return get_winner(afc_champ, nfc_champ)"
   ]
  },
  {
   "cell_type": "code",
   "execution_count": 7,
   "metadata": {},
   "outputs": [],
   "source": [
    "winners = [\n",
    "    run_playoffs(afc, nfc)\n",
    "    for _ in range(int(1e6))\n",
    "]"
   ]
  },
  {
   "cell_type": "code",
   "execution_count": 9,
   "metadata": {},
   "outputs": [
    {
     "name": "stdout",
     "output_type": "stream",
     "text": [
      "0.173784\tTeam(name=Saints, rating=(1622.2506077092312, 5611.737038922921))\n",
      "0.172482\tTeam(name=Chiefs, rating=(1617.8262887350143, 5777.087836068869))\n",
      "0.164673\tTeam(name=Patriots, rating=(1614.8777467699877, 6422.9258324619095))\n",
      "0.136643\tTeam(name=Rams, rating=(1595.1493081532103, 5638.337109199486))\n",
      "0.055233\tTeam(name=Ravens, rating=(1579.1415676404824, 5628.188412486042))\n",
      "0.054203\tTeam(name=Seahawks, rating=(1569.325322311265, 5692.750401483499))\n",
      "0.052313\tTeam(name=Chargers, rating=(1575.6683520717681, 5686.877352955613))\n",
      "0.051420\tTeam(name=Eagles, rating=(1573.0877526752258, 5763.175694404063))\n",
      "0.049454\tTeam(name=Bears, rating=(1568.2953769418104, 5658.668224549107))\n",
      "0.035592\tTeam(name=Texans, rating=(1531.140310186461, 5632.326645701227))\n",
      "0.030325\tTeam(name=Cowboys, rating=(1529.6153074263095, 5562.54489659418))\n",
      "0.023878\tTeam(name=Colts, rating=(1504.7960540254635, 5722.50979574115))\n"
     ]
    }
   ],
   "source": [
    "for t, count in sorted(Counter(winners).items(), reverse=True, key=lambda t: t[1]):\n",
    "    print(f'{count / len(winners):.06f}\\t{t}')"
   ]
  },
  {
   "cell_type": "code",
   "execution_count": null,
   "metadata": {},
   "outputs": [],
   "source": []
  }
 ],
 "metadata": {
  "kernelspec": {
   "display_name": "Python 3",
   "language": "python",
   "name": "python3"
  },
  "language_info": {
   "codemirror_mode": {
    "name": "ipython",
    "version": 3
   },
   "file_extension": ".py",
   "mimetype": "text/x-python",
   "name": "python",
   "nbconvert_exporter": "python",
   "pygments_lexer": "ipython3",
   "version": "3.7.0"
  }
 },
 "nbformat": 4,
 "nbformat_minor": 2
}
