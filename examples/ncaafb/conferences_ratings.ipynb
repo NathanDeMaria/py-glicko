{
 "cells": [
  {
   "cell_type": "code",
   "execution_count": 1,
   "metadata": {},
   "outputs": [],
   "source": [
    "import sys\n",
    "\n",
    "sys.path.append('../../app/leagues/')"
   ]
  },
  {
   "cell_type": "code",
   "execution_count": 2,
   "metadata": {},
   "outputs": [],
   "source": [
    "import numpy as np\n",
    "import pandas as pd\n",
    "from collections import defaultdict\n",
    "\n",
    "from ncaaf import builder"
   ]
  },
  {
   "cell_type": "code",
   "execution_count": 3,
   "metadata": {},
   "outputs": [],
   "source": [
    "league = builder.get_league()\n",
    "\n",
    "conferences = pd.read_csv('../../app/leagues/ncaaf/ncaaf_subdivisions.csv')\n",
    "\n",
    "conference_names = {\n",
    "    1: 'ACC',\n",
    "    4: 'Big 12',\n",
    "    5: 'Big Ten',\n",
    "    8: 'SEC',\n",
    "    9: 'Pac12',\n",
    "    12: 'C-USA',\n",
    "    15: 'MAC',\n",
    "    17: 'Mountain West',\n",
    "    18: 'Independent',\n",
    "    20: 'Big Sky',\n",
    "    21: 'Missouri Valley',\n",
    "    24: 'MEAC',\n",
    "    25: 'Northeast',\n",
    "    26: 'Ohio Valley',\n",
    "    27: 'Patriot',\n",
    "    29: 'Southern',\n",
    "    30: 'Southland',\n",
    "    31: 'SWAC',\n",
    "    32: 'FCS Independent',\n",
    "    37: 'Sun Belt',\n",
    "    40: 'Big South',\n",
    "    48: 'Colonial',\n",
    "    151: 'AAC',\n",
    "}\n",
    "\n",
    "conferences['conference'] = [\n",
    "    conference_names.get(c)\n",
    "    for c in conferences.conference_id\n",
    "]\n",
    "\n",
    "conference_lookup = {\n",
    "    r['name']: r.conference\n",
    "    for _, r in conferences.iterrows()\n",
    "}\n",
    "\n",
    "conference_teams = defaultdict(list)\n",
    "for t in league.teams:\n",
    "    conference = conference_lookup.get(t.name, 'N/A')\n",
    "    conference_teams[conference].append(t)"
   ]
  },
  {
   "cell_type": "markdown",
   "metadata": {},
   "source": [
    "Current ratings"
   ]
  },
  {
   "cell_type": "code",
   "execution_count": 4,
   "metadata": {},
   "outputs": [
    {
     "name": "stdout",
     "output_type": "stream",
     "text": [
      " 1. SEC                  1849.15   136.74\n",
      " 2. Big 12               1811.14    91.27\n",
      " 3. Big Ten              1807.06   135.37\n",
      " 4. Pac12                1795.07    94.55\n",
      " 5. ACC                  1783.45    97.37\n",
      " 6. AAC                  1681.63   127.05\n",
      " 7. Mountain West        1648.77   108.48\n",
      " 8. Independent          1611.35   194.07\n",
      " 9. Sun Belt             1595.97   109.05\n",
      "10. MAC                  1569.61    77.81\n",
      "11. C-USA                1565.47    94.99\n",
      "12. Colonial             1495.84    82.92\n",
      "13. Missouri Valley      1494.55    78.26\n",
      "14. Big Sky              1466.77    82.82\n",
      "15. Southland            1420.72    79.84\n",
      "16. Southern             1414.41   100.56\n",
      "17. Ohio Valley          1373.00    86.47\n",
      "19. Northeast            1306.16    77.79\n",
      "20. Big South            1294.36    62.61\n",
      "21. Patriot              1291.53    57.52\n",
      "22. MEAC                 1256.49   123.89\n",
      "23. SWAC                 1189.06   125.45\n"
     ]
    }
   ],
   "source": [
    "conference_ratings = {\n",
    "    conf_name: (\n",
    "        np.mean([t.rating[0] for t in conference]),\n",
    "        np.std([t.rating[0] for t in conference])\n",
    "    )\n",
    "    for conf_name, conference\n",
    "    in conference_teams.items()\n",
    "}\n",
    "\n",
    "for i, (c, (r, std)) in enumerate(sorted(conference_ratings.items(), key=lambda x: x[1], reverse=True)):\n",
    "    if c is None:\n",
    "        continue\n",
    "    print(f'{i+1:>2}. {c:<20} {r:.02f} {std:8.2f}')"
   ]
  },
  {
   "cell_type": "markdown",
   "metadata": {},
   "source": [
    "Details for one conference"
   ]
  },
  {
   "cell_type": "code",
   "execution_count": 5,
   "metadata": {},
   "outputs": [
    {
     "name": "stdout",
     "output_type": "stream",
     "text": [
      "Ohio State Buckeyes                      2040.71\n",
      "Penn State Nittany Lions                 1973.93\n",
      "Wisconsin Badgers                        1966.81\n",
      "Iowa Hawkeyes                            1905.17\n",
      "Michigan Wolverines                      1888.29\n",
      "Michigan State Spartans                  1829.40\n",
      "Minnesota Golden Gophers                 1808.86\n",
      "Purdue Boilermakers                      1779.36\n",
      "Northwestern Wildcats                    1760.49\n",
      "Indiana Hoosiers                         1748.87\n",
      "Maryland Terrapins                       1724.31\n",
      "Nebraska Cornhuskers                     1717.48\n",
      "Illinois Fighting Illini                 1629.25\n",
      "Rutgers Scarlet Knights                  1525.88\n"
     ]
    }
   ],
   "source": [
    "conference = 'Big Ten'\n",
    "for t in sorted(league.teams, key=lambda t: t.rating[0], reverse=True):\n",
    "    if conference_lookup[t.name] == conference:\n",
    "        print(f'{t.name:<40} {t.rating[0]:.02f}')"
   ]
  },
  {
   "cell_type": "markdown",
   "metadata": {},
   "source": [
    "How about for a specific year?"
   ]
  },
  {
   "cell_type": "code",
   "execution_count": 6,
   "metadata": {},
   "outputs": [
    {
     "name": "stdout",
     "output_type": "stream",
     "text": [
      " 1. Big 12               1756.77    91.27\n",
      " 2. Pac12                1733.59    94.55\n",
      " 3. ACC                  1730.59    97.37\n",
      " 4. Big Ten              1729.74   135.37\n",
      " 5. SEC                  1724.80   136.74\n",
      " 6. Mountain West        1578.78   108.48\n",
      " 7. AAC                  1564.11   127.05\n",
      " 8. Independent          1547.77   194.07\n",
      " 9. MAC                  1538.62    77.81\n",
      "10. C-USA                1522.73    94.99\n",
      "11. Colonial             1520.80    82.92\n",
      "12. Sun Belt             1520.10   109.05\n",
      "13. Patriot              1500.94    57.52\n",
      "14. Missouri Valley      1492.66    78.26\n",
      "15. Big South            1463.97    62.61\n",
      "16. Big Sky              1433.82    82.82\n",
      "18. Southern             1418.90   100.56\n",
      "19. Southland            1409.06    79.84\n",
      "20. SWAC                 1403.54   125.45\n",
      "21. MEAC                 1401.77   123.89\n",
      "22. Northeast            1371.87    77.79\n",
      "23. Ohio Valley          1360.36    86.47\n"
     ]
    }
   ],
   "source": [
    "year = 2006\n",
    "conference_ratings = {\n",
    "    conf_name: (\n",
    "        np.mean([t.get_rating_before(year, 0)[0] for t in conference]),\n",
    "        np.std([t.rating[0] for t in conference])\n",
    "    )\n",
    "    for conf_name, conference\n",
    "    in conference_teams.items()\n",
    "}\n",
    "\n",
    "for i, (c, (r, std)) in enumerate(sorted(conference_ratings.items(), key=lambda x: x[1], reverse=True)):\n",
    "    if c is None:\n",
    "        continue\n",
    "    print(f'{i+1:>2}. {c:<20} {r:.02f} {std:8.2f}')"
   ]
  },
  {
   "cell_type": "code",
   "execution_count": null,
   "metadata": {},
   "outputs": [],
   "source": []
  }
 ],
 "metadata": {
  "kernelspec": {
   "display_name": "Python 3",
   "language": "python",
   "name": "python3"
  },
  "language_info": {
   "codemirror_mode": {
    "name": "ipython",
    "version": 3
   },
   "file_extension": ".py",
   "mimetype": "text/x-python",
   "name": "python",
   "nbconvert_exporter": "python",
   "pygments_lexer": "ipython3",
   "version": "3.7.3"
  }
 },
 "nbformat": 4,
 "nbformat_minor": 2
}
